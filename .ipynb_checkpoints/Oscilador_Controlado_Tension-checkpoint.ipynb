{
 "cells": [
  {
   "cell_type": "markdown",
   "id": "dbab0d98",
   "metadata": {},
   "source": [
    "## Osciladores Colpitts y Hartley \n",
    " \n",
    "Son dos esquemas clásicos de oscilador para comunicaciones con un único elemento activo, que puede ser un BJT o un MOSFET. \n",
    "\n",
    "Los circuitos equivalentes para c.a. de las versiones con BJT están representados en la figura.\n",
    "\n",
    "![](fig/collpits_hartley.png)\n",
    "\n",
    "El Colpitts emplea dos capacitores y un inductor en la red de realimentación, mientras que el Hartley emplea dos inductores y un ccapacitor. \n",
    "El análisis de estos osciladores es similar, así que nos limitaremos a estudiar el Colpitts. \n",
    "\n",
    "\n",
    "\n",
    "\n",
    "El Colpitts emplea dos capacitores y un inductor en la red de realimentación.\n",
    "\n",
    "![ex 2.13](fig/colpittBJT.png)\n",
    "\n",
    "En la figura se representa el esquema del oscilador Colpitts, redibujado para poner en evidencia la red de realimentación. También en esta figura se indica el punto M, elegido para abrir el lazo de realimentación. \n",
    "\n",
    "![ex 2.13](fig/colpittRealimenta.png)\n",
    "\n",
    "\n",
    "En la siguiente figura se muestra el circuito que resulta después de abrir el lazo y de sustituir el BJT por su circuito equivalente en pequeña señal. Notar que la impedancia de entrada en el punto de inicio es $Z_{in} = r_{\\pi}$. \n",
    "\n",
    "De circuito se obtienen los valores de la impedancia.\n",
    "\n",
    "$$Z_{1} = \\frac{r_{\\pi}}{1 + j \\omega C_{1} r_{\\pi} }$$\n",
    " \n",
    "$$Z_{2} = \\frac{1}{j \\omega C_{2}}$$\n",
    "\n",
    "$$Z     =  j \\omega L$$\n",
    "\n",
    "\n",
    "$$A = -gm \\cdot  \\frac{Z_{2} \\cdot (Z + Z_{1}) }{Z_{1}+Z+Z_{2}}$$\n",
    "\n",
    "$$\\beta =  \\frac{Z_{1}}{Z + Z_{1}}$$\n",
    "\n",
    "Entonces, para la condición de Barkhausen.\n",
    "\n",
    "$$A \\beta =   -gm \\cdot  \\frac{Z_{1} \\cdot Z_{2}}{Z_{1}+Z+Z_{2}} = 1$$\n",
    "\n",
    "Sustituyendo en la ecuación anterior las expresiones correspondientes.\n",
    "\n",
    "\n",
    "$$A \\beta =   -gm \\cdot (\\frac{r_{\\pi}}{1+j\\omega C_{1} r_{\\pi}}) \\cdot (\\frac{1}{j \\omega C_{2}}) \\cdot  \\frac{1}{(\\frac{r_{\\pi}}{1 + j \\omega C_{1} r_{\\pi} } )+ (j \\omega L) +(\\frac{1}{j \\omega C_{2}})} = 1$$\n",
    "\n",
    "\n",
    "$$\\frac{ -gm \\cdot r_{\\pi} }{(1 + j \\omega C_{1} r_{\\pi}  -  \\omega^2 C_{2} L (1 + j \\omega C_{1} r_{\\pi}) + j \\omega C_{2}) } = 1$$\n",
    "\n",
    "$$\\frac{ -gm \\cdot r_{\\pi} }{(1 - \\omega^2 C_{2} L) + j \\omega r_{\\pi} ( C_{2} + C_{1} - \\omega^2 C_{2} C_{1} L  ) } = 1$$\n",
    "\n",
    "Aplicando el criterio de Barkhausen para la fase, $\\phi( A\\beta)= 0$, la frecuencia de oscilación: \n",
    "\n",
    "$$\\omega = \\sqrt{ \\frac{C_{2} + C_{1}}{ C_{2} C_{1} L} }$$\n",
    "\n",
    "\n",
    "Sustituyendo este resultado en la expresión de $A \\beta$ y aplicando el criterio de Barkhausen para el módulo, $|A \\beta | > 1$,  obtenemos la condición de arranque \n",
    "\n",
    "$$\\frac{ -gm \\cdot r_{\\pi} }{ 1 - \\omega^2 C_{2} L }  > 1$$\n",
    "\n",
    "$$gm \\cdot r_{\\pi}  > \\frac{C_{1}}{C_{2}}$$\n",
    "\n",
    "\n",
    "\n",
    "\n"
   ]
  },
  {
   "cell_type": "markdown",
   "id": "1cf7d3cb",
   "metadata": {},
   "source": [
    "\n",
    "![ex 2.13](fig/VCO_esquema"
   ]
  }
 ],
 "metadata": {
  "kernelspec": {
   "display_name": "Python 3",
   "language": "python",
   "name": "python3"
  },
  "language_info": {
   "codemirror_mode": {
    "name": "ipython",
    "version": 3
   },
   "file_extension": ".py",
   "mimetype": "text/x-python",
   "name": "python",
   "nbconvert_exporter": "python",
   "pygments_lexer": "ipython3",
   "version": "3.8.8"
  }
 },
 "nbformat": 4,
 "nbformat_minor": 5
}
